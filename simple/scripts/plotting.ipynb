{
 "cells": [
  {
   "cell_type": "code",
   "execution_count": 1,
   "metadata": {
    "collapsed": true
   },
   "outputs": [],
   "source": [
    "%matplotlib inline"
   ]
  },
  {
   "cell_type": "code",
   "execution_count": 6,
   "metadata": {
    "collapsed": false
   },
   "outputs": [],
   "source": [
    "import deterministic_v2\n",
    "from deterministic_v2 import Simulation\n",
    "import sumolib"
   ]
  },
  {
   "cell_type": "code",
   "execution_count": 7,
   "metadata": {
    "collapsed": false
   },
   "outputs": [],
   "source": [
    "network = sumolib.net.readNet('../network/simple.net.xml')\n",
    "total_trips = 500\n",
    "interval_time = 1000\n",
    "s = Simulation(network, total_trips, interval_time, tripfile='../trips/trip.xml')\n",
    "\n",
    "result = s.run_all()\n",
    "vul = {}\n",
    "s.result_list['nominal']['prod'] = s.result_list['nominal']['t_cost'] * \\\n",
    "                                   s.result_list['nominal']['v_cost']\n",
    "\n",
    "for sim in s.result_list.keys():\n",
    "    if sim != 'nominal':\n",
    "        vul[sim] = sum(\n",
    "        (s.result_list[sim]['t_cost'] * s.result_list[sim]['v_cost'] -\n",
    "        s.result_list['nominal']['prod']) / (s.result_list['nominal']['prod']))"
   ]
  },
  {
   "cell_type": "code",
   "execution_count": 8,
   "metadata": {
    "collapsed": false
   },
   "outputs": [
    {
     "data": {
      "text/html": [
       "<div>\n",
       "<table border=\"1\" class=\"dataframe\">\n",
       "  <thead>\n",
       "    <tr style=\"text-align: right;\">\n",
       "      <th></th>\n",
       "      <th>depart</th>\n",
       "      <th>t_cost</th>\n",
       "      <th>trip_id</th>\n",
       "      <th>v_cost</th>\n",
       "    </tr>\n",
       "  </thead>\n",
       "  <tbody>\n",
       "    <tr>\n",
       "      <th>0</th>\n",
       "      <td>0</td>\n",
       "      <td>224</td>\n",
       "      <td>0</td>\n",
       "      <td>2801.05</td>\n",
       "    </tr>\n",
       "    <tr>\n",
       "      <th>1</th>\n",
       "      <td>3</td>\n",
       "      <td>230</td>\n",
       "      <td>1</td>\n",
       "      <td>2801.05</td>\n",
       "    </tr>\n",
       "    <tr>\n",
       "      <th>2</th>\n",
       "      <td>5</td>\n",
       "      <td>223</td>\n",
       "      <td>2</td>\n",
       "      <td>2801.51</td>\n",
       "    </tr>\n",
       "    <tr>\n",
       "      <th>3</th>\n",
       "      <td>8</td>\n",
       "      <td>223</td>\n",
       "      <td>3</td>\n",
       "      <td>2801.51</td>\n",
       "    </tr>\n",
       "    <tr>\n",
       "      <th>4</th>\n",
       "      <td>10</td>\n",
       "      <td>226</td>\n",
       "      <td>4</td>\n",
       "      <td>2801.05</td>\n",
       "    </tr>\n",
       "  </tbody>\n",
       "</table>\n",
       "</div>"
      ],
      "text/plain": [
       "  depart t_cost trip_id   v_cost\n",
       "0      0    224       0  2801.05\n",
       "1      3    230       1  2801.05\n",
       "2      5    223       2  2801.51\n",
       "3      8    223       3  2801.51\n",
       "4     10    226       4  2801.05"
      ]
     },
     "execution_count": 8,
     "metadata": {},
     "output_type": "execute_result"
    }
   ],
   "source": [
    "s.result.head()"
   ]
  },
  {
   "cell_type": "code",
   "execution_count": 9,
   "metadata": {
    "collapsed": false
   },
   "outputs": [
    {
     "ename": "ModuleNotFoundError",
     "evalue": "No module named 'bokeh.charts'",
     "output_type": "error",
     "traceback": [
      "\u001b[0;31m---------------------------------------------------------------------------\u001b[0m",
      "\u001b[0;31mModuleNotFoundError\u001b[0m                       Traceback (most recent call last)",
      "\u001b[0;32m<ipython-input-9-60713cb38cf4>\u001b[0m in \u001b[0;36m<module>\u001b[0;34m()\u001b[0m\n\u001b[0;32m----> 1\u001b[0;31m \u001b[1;32mfrom\u001b[0m \u001b[0mbokeh\u001b[0m\u001b[1;33m.\u001b[0m\u001b[0mcharts\u001b[0m \u001b[1;32mimport\u001b[0m \u001b[0mBar\u001b[0m\u001b[1;33m,\u001b[0m \u001b[0mshow\u001b[0m\u001b[1;33m\u001b[0m\u001b[0m\n\u001b[0m",
      "\u001b[0;31mModuleNotFoundError\u001b[0m: No module named 'bokeh.charts'"
     ]
    }
   ],
   "source": [
    "from bokeh.charts import Bar, show"
   ]
  },
  {
   "cell_type": "code",
   "execution_count": 10,
   "metadata": {
    "collapsed": false
   },
   "outputs": [],
   "source": [
    "from bokeh.plotting import figure, show\n"
   ]
  },
  {
   "cell_type": "code",
   "execution_count": 24,
   "metadata": {
    "collapsed": false
   },
   "outputs": [],
   "source": [
    "p = figure(plot_width=1600, plot_height=800)\n",
    "p.step(s.result['trip_id'], s.result['t_cost'], color=\"navy\", legend = \"Nominal\")\n",
    "name = '1to3 0 500'\n",
    "p.step(s.result_list[name]['trip_id'], s.result_list[name]['t_cost'], color = \"firebrick\", legend = name)\n",
    "name = '1to3 500 1000'\n",
    "p.step(s.result_list[name]['trip_id'], s.result_list[name]['t_cost'], color = \"green\", legend = name)\n",
    "name = '1to3 1000 1500'\n",
    "p.step(s.result_list[name]['trip_id'], s.result_list[name]['t_cost'], color = \"black\", legend = name)\n",
    "p.legend.location = \"top_left\"\n",
    "p.legend.click_policy=\"hide\"\n",
    "#show(p)"
   ]
  },
  {
   "cell_type": "code",
   "execution_count": 31,
   "metadata": {
    "collapsed": false
   },
   "outputs": [],
   "source": [
    "from bokeh.layouts import widgetbox\n",
    "from bokeh.models.widgets.inputs import MultiSelect\n",
    "from bokeh.layouts import layout\n",
    "\n",
    "def text_ip_handler(attr, old, new):\n",
    "    print(\"Old : \" + old)\n",
    "    print(\"New : \" + new)\n",
    "\n",
    "def on_click(new):\n",
    "    print(str(new))\n",
    "\n",
    "text_input = MultiSelect(value = list(s.result_list.keys()), \n",
    "                         options= list(zip(list(s.result_list.keys()), list(s.result_list.keys()))))\n",
    "\n",
    "text_input.on_change(\"value\", text_ip_handler)\n",
    "\n",
    "l = layout([text_input, p])\n",
    "show(l)"
   ]
  },
  {
   "cell_type": "code",
   "execution_count": 3,
   "metadata": {
    "collapsed": false
   },
   "outputs": [
    {
     "name": "stdout",
     "output_type": "stream",
     "text": [
      "0.12.15\n"
     ]
    }
   ],
   "source": [
    "import bokeh\n",
    "print(bokeh.__version__)"
   ]
  },
  {
   "cell_type": "code",
   "execution_count": 19,
   "metadata": {
    "collapsed": false
   },
   "outputs": [
    {
     "data": {
      "text/plain": [
       "[('nominal', 'nominal'),\n",
       " ('0to1 0 500', '0to1 0 500'),\n",
       " ('0to1 500 1000', '0to1 500 1000'),\n",
       " ('0to1 1000 1500', '0to1 1000 1500'),\n",
       " ('0to2 0 500', '0to2 0 500'),\n",
       " ('0to2 500 1000', '0to2 500 1000'),\n",
       " ('0to2 1000 1500', '0to2 1000 1500'),\n",
       " ('1to0 0 500', '1to0 0 500'),\n",
       " ('1to0 500 1000', '1to0 500 1000'),\n",
       " ('1to0 1000 1500', '1to0 1000 1500'),\n",
       " ('1to2 0 500', '1to2 0 500'),\n",
       " ('1to2 500 1000', '1to2 500 1000'),\n",
       " ('1to2 1000 1500', '1to2 1000 1500'),\n",
       " ('1to3 0 500', '1to3 0 500'),\n",
       " ('1to3 500 1000', '1to3 500 1000'),\n",
       " ('1to3 1000 1500', '1to3 1000 1500'),\n",
       " ('2to0 0 500', '2to0 0 500'),\n",
       " ('2to0 500 1000', '2to0 500 1000'),\n",
       " ('2to0 1000 1500', '2to0 1000 1500'),\n",
       " ('2to4 0 500', '2to4 0 500'),\n",
       " ('2to4 500 1000', '2to4 500 1000'),\n",
       " ('2to4 1000 1500', '2to4 1000 1500'),\n",
       " ('3to4 0 500', '3to4 0 500'),\n",
       " ('3to4 500 1000', '3to4 500 1000'),\n",
       " ('3to4 1000 1500', '3to4 1000 1500'),\n",
       " ('3to5 0 500', '3to5 0 500'),\n",
       " ('3to5 500 1000', '3to5 500 1000'),\n",
       " ('3to5 1000 1500', '3to5 1000 1500'),\n",
       " ('4to2 0 500', '4to2 0 500'),\n",
       " ('4to2 500 1000', '4to2 500 1000'),\n",
       " ('4to2 1000 1500', '4to2 1000 1500'),\n",
       " ('4to3 0 500', '4to3 0 500'),\n",
       " ('4to3 500 1000', '4to3 500 1000'),\n",
       " ('4to3 1000 1500', '4to3 1000 1500'),\n",
       " ('4to5 0 500', '4to5 0 500'),\n",
       " ('4to5 500 1000', '4to5 500 1000'),\n",
       " ('4to5 1000 1500', '4to5 1000 1500'),\n",
       " ('5to3 0 500', '5to3 0 500'),\n",
       " ('5to3 500 1000', '5to3 500 1000'),\n",
       " ('5to3 1000 1500', '5to3 1000 1500')]"
      ]
     },
     "execution_count": 19,
     "metadata": {},
     "output_type": "execute_result"
    }
   ],
   "source": [
    "list(zip(list(s.result_list.keys()), list(s.result_list.keys())))\n"
   ]
  },
  {
   "cell_type": "code",
   "execution_count": null,
   "metadata": {
    "collapsed": true
   },
   "outputs": [],
   "source": []
  }
 ],
 "metadata": {
  "kernelspec": {
   "display_name": "Python 3",
   "language": "python",
   "name": "python3"
  },
  "language_info": {
   "codemirror_mode": {
    "name": "ipython",
    "version": 3
   },
   "file_extension": ".py",
   "mimetype": "text/x-python",
   "name": "python",
   "nbconvert_exporter": "python",
   "pygments_lexer": "ipython3",
   "version": "3.6.0"
  }
 },
 "nbformat": 4,
 "nbformat_minor": 0
}
